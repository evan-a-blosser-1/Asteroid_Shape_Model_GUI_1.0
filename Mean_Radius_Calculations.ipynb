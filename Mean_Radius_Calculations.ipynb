{
 "cells": [
  {
   "cell_type": "markdown",
   "metadata": {},
   "source": [
    "# Asteroid Scaling:\n",
    "\n",
    "Sacling was calculated when processing Tetrahedron Center of Masses (CM) using `Asteroid_CM.py`"
   ]
  },
  {
   "cell_type": "code",
   "execution_count": 3,
   "metadata": {},
   "outputs": [],
   "source": [
    "import numpy as np"
   ]
  },
  {
   "cell_type": "markdown",
   "metadata": {},
   "source": [
    "## (486958) Arrokoth\n",
    "\n",
    "Source: https://science.nasa.gov/solar-system/kuiper-belt/arrokoth-2014-mu69/facts/\n",
    "\n",
    "Arrokoth's dimensions are roughly \n",
    "\\begin{align}\n",
    "    Length = 30 km\\\\\n",
    "    Width  = 20 km\\\\\n",
    "    thick  = 10 km\n",
    "\\end{align}\n",
    "\n",
    "Scaled to: $\\gamma$ = 1.003738848598423"
   ]
  },
  {
   "cell_type": "code",
   "execution_count": 8,
   "metadata": {},
   "outputs": [
    {
     "name": "stdout",
     "output_type": "stream",
     "text": [
      "\n",
      "------------------------------------------\n",
      "| Mean Diameter = 20.0 +/- 8.165 km\n",
      "| Mean_Radius   = 10.0 +/- 8.165 km\n",
      "------------------------------------------\n",
      "\n"
     ]
    }
   ],
   "source": [
    "########\n",
    "# Find the mean \n",
    "Mean_Diamter_Arrokoth = (30+20+10)/3\n",
    "###\n",
    "# Standard Dev\n",
    "\n",
    "Arrokoth_Error = np.std(np.array([30,20,10]))\n",
    "Arrokoth_Out = f\"\"\"\n",
    "{'-'*42}\n",
    "| Mean Diameter = {Mean_Diamter_Arrokoth} +/- {Arrokoth_Error:.3f} km\n",
    "| Mean_Radius   = {Mean_Diamter_Arrokoth/2} +/- {Arrokoth_Error:.3f} km\n",
    "{'-'*42}\n",
    "\"\"\"\n",
    "print(Arrokoth_Out)"
   ]
  },
  {
   "cell_type": "markdown",
   "metadata": {},
   "source": [
    "## (2991) Biblo\n",
    "\n",
    "From: https://3d-asteroids.space/asteroids/2991-Bilbo\n",
    "\n",
    "Mean Diameter = 7.8180 km\n",
    "\n",
    "Mean raduis = 3.909 km\n",
    "\n",
    "Scaled to: $\\gamma$ = 5.100563165342119"
   ]
  },
  {
   "cell_type": "markdown",
   "metadata": {},
   "source": [
    "## (1865) Cerberus\n",
    "\n",
    "From: https://3d-asteroids.space/asteroids/1865-Cerberus\n",
    "\n",
    "Mean Diameter = 1.2000 km\n",
    "\n",
    "Mean raduis = 0.6000 km\n",
    "\n",
    "Scaled to: $\\gamma$ =  0.4700320526985952"
   ]
  },
  {
   "cell_type": "markdown",
   "metadata": {},
   "source": [
    "# (1419) Danzig\n",
    "\n",
    "From: https://3d-asteroids.space/asteroids/1419-Danzig\n",
    "\n",
    "Mean Diameter = 14.997 km\n",
    "\n",
    "Mean raduis = 7.4985 km\n",
    "\n",
    "Scaled to: $\\gamma$ =  9.273520448812137"
   ]
  },
  {
   "cell_type": "markdown",
   "metadata": {},
   "source": [
    "# (164) Eva\n",
    "\n",
    "From: https://3d-asteroids.space/asteroids/164-Eva\n",
    "\n",
    "Mean Diameter = 100.25 km\n",
    "\n",
    "Mean raduis = 50.125 km\n",
    "\n",
    "Scaled to: $\\gamma$ = 74.20189405027513"
   ]
  },
  {
   "cell_type": "markdown",
   "metadata": {},
   "source": [
    "# (8) Flora\n",
    "\n",
    "From: https://3d-asteroids.space/asteroids/8-Flora\n",
    "\n",
    "Mean Diameter = 147.49 km\n",
    "\n",
    "Mean raduis = 73.745 km \n",
    "\n",
    "Scaled to: $\\gamma$ = 1.0161368060728935"
   ]
  },
  {
   "cell_type": "markdown",
   "metadata": {},
   "source": [
    "# (1620) Geographos\n",
    "\n",
    "From: https://3d-asteroids.space/asteroids/1620-Geographos\n",
    "\n",
    "Mean Diameter = 2.5600 km\n",
    "\n",
    "Mean raduis = 1.2800 km\n",
    "\n",
    "Scaled to: $\\gamma$ = 0.8604483326862341"
   ]
  },
  {
   "cell_type": "markdown",
   "metadata": {},
   "source": [
    "# (624) Hektor\n",
    "\n",
    "From: https://3d-asteroids.space/asteroids/624-Hektor\n",
    "\n",
    "Mean Diameter = 225.00 km\n",
    "\n",
    "Mean raduis = 112.500km\n",
    "\n",
    "Scaled to: $\\gamma$ = 125.1552869904105"
   ]
  },
  {
   "cell_type": "markdown",
   "metadata": {},
   "source": [
    "# (7) Iris\n",
    "\n",
    "From: https://3d-asteroids.space/asteroids/7-Iris\n",
    "\n",
    "Mean Diameter = 199.83 km\n",
    "\n",
    "Mean raduis = 99.915 km\n",
    "\n",
    "Scaled to: $\\gamma$ = 0.9397839352627169"
   ]
  },
  {
   "cell_type": "markdown",
   "metadata": {},
   "source": [
    "# (89) Julia\n",
    "\n",
    "From: https://3d-asteroids.space/asteroids/89-Julia\n",
    "\n",
    "Mean Diameter = 145.48 km\n",
    "\n",
    "Mean raduis = 72.74 km\n",
    "\n",
    "Scaled to: $\\gamma$ =  0.9015971003020035"
   ]
  },
  {
   "cell_type": "markdown",
   "metadata": {},
   "source": [
    "# (216) Kleopatra\n",
    "\n",
    "From: https://3d-asteroids.space/asteroids/216-Kleopatra\n",
    "\n",
    "Mean Diameter = 122.00 km\n",
    "\n",
    "Mean raduis = 61 km\n",
    "\n",
    "Scaled to: $\\gamma$ = 0.8133640395837609"
   ]
  },
  {
   "cell_type": "markdown",
   "metadata": {},
   "source": [
    "# (1930) Lucifer\n",
    "\n",
    "From: https://3d-asteroids.space/asteroids/1930-Lucifer\n",
    "\n",
    "Mean Diameter = 34.437 km\n",
    "\n",
    "Mean raduis = 17.2185 km\n",
    "\n",
    "Scaled to: $\\gamma$ = 21.57712545847271"
   ]
  },
  {
   "cell_type": "markdown",
   "metadata": {},
   "source": [
    "# (4486) Mithra\n",
    "\n",
    "From: https://3d-asteroids.space/asteroids/4486-Mithra\n",
    "\n",
    "Mean Diameter = 1.8490 km\n",
    "\n",
    "Mean raduis = 0.9245 km\n",
    "\n",
    "Scaled to: $\\gamma$ = 1.1245972680856962"
   ]
  },
  {
   "cell_type": "markdown",
   "metadata": {},
   "source": [
    "# (2495) Noviomagum\n",
    "\n",
    "From: https://3d-asteroids.space/asteroids/2495-Noviomagum\n",
    "\n",
    "Mean Diameter = 1.6960 km\n",
    "\n",
    "Mean raduis = 0.848 km\n",
    "\n",
    "Scaled to: $\\gamma$ = 1.061747242223572"
   ]
  },
  {
   "cell_type": "markdown",
   "metadata": {},
   "source": [
    "# (2962) Otto \n",
    "\n",
    "From: https://3d-asteroids.space/asteroids/2962-Otto\n",
    "\n",
    "Mean Diameter = 17.011 km\n",
    "\n",
    "Mean raduis = 8.5055 km\n",
    "\n",
    "Scaled to: $\\gamma$ = 10.89637979719658"
   ]
  },
  {
   "cell_type": "markdown",
   "metadata": {},
   "source": [
    "# (399) Persephone\n",
    "\n",
    "From: https://3d-asteroids.space/asteroids/399-Persephone\n",
    "\n",
    "Mean Diameter = 39.566 km\n",
    "\n",
    "Mean raduis = 19.783 km\n",
    "\n",
    "Scaled to: $\\gamma$ = 26.54152271850921"
   ]
  },
  {
   "cell_type": "markdown",
   "metadata": {},
   "source": [
    "# (4570) Runcorn\n",
    "\n",
    "From: https://3d-asteroids.space/asteroids/4570-Runcorn\n",
    "\n",
    "Mean Diameter = 3.9440 km\n",
    "\n",
    "Mean raduis = 1.972 km\n",
    "\n",
    "Scaled to: $\\gamma$ = 2.502147296572005"
   ]
  },
  {
   "cell_type": "markdown",
   "metadata": {},
   "source": [
    "# (10288) Saville\n",
    "\n",
    "From: https://3d-asteroids.space/asteroids/10288-Saville\n",
    "\n",
    "Mean Diameter = 8.5520 km\n",
    "\n",
    "Mean raduis = 4.276 km\n",
    "\n",
    "Scaled to: $\\gamma$ = 4.9301903600949455"
   ]
  },
  {
   "cell_type": "markdown",
   "metadata": {},
   "source": [
    "# (4179) Toutatis\n",
    "\n",
    "From: https://3d-asteroids.space/asteroids/4179-Toutatis\n",
    "\n",
    "Mean Diameter = 5.4000 km\n",
    "\n",
    "Mean raduis = 2.7000km\n",
    "\n",
    "Scaled to: $\\gamma$ = 1.7910733773064786"
   ]
  },
  {
   "cell_type": "markdown",
   "metadata": {},
   "source": [
    "# (1838) Ursa\n",
    "\n",
    "From: https://3d-asteroids.space/asteroids/1838-Ursa\n",
    "\n",
    "Mean Diameter = 40.054 km\n",
    "\n",
    "Mean raduis = 20.027 km\n",
    "\n",
    "Scaled to: $\\gamma$ = 22.92297044211607"
   ]
  },
  {
   "cell_type": "markdown",
   "metadata": {},
   "source": [
    "# (245) Vera\n",
    "\n",
    "From: https://3d-asteroids.space/asteroids/245-Vera\n",
    "\n",
    "Mean Diameter = 75.949 km\n",
    "\n",
    "Mean raduis = 37.9745 km\n",
    "\n",
    "Scaled to: $\\gamma$ = 55.18763465915349"
   ]
  },
  {
   "cell_type": "markdown",
   "metadata": {},
   "source": [
    "# (890) Waltraut\n",
    "\n",
    "From: https://3d-asteroids.space/asteroids/890-Waltraut\n",
    "\n",
    "Mean Diameter = 28.376 km\n",
    "\n",
    "Mean raduis = 14.188 km\n",
    "\n",
    "Scaled to: $\\gamma$ = 18.50441901028305"
   ]
  },
  {
   "cell_type": "markdown",
   "metadata": {},
   "source": [
    "# (625) Xenia\n",
    "\n",
    "From: https://3d-asteroids.space/asteroids/625-Xenia\n",
    "\n",
    "Mean Diameter = 28.287 km\n",
    "\n",
    "Mean raduis = 14.1435 km\n",
    "\n",
    "Scaled to: $\\gamma$ = 18.729161655946683"
   ]
  },
  {
   "cell_type": "markdown",
   "metadata": {},
   "source": [
    "# (19848) Yeungchuchiu\n",
    "\n",
    "From: https://3d-asteroids.space/asteroids/19848-Yeungchuchiu\n",
    "\n",
    "Mean Diameter = 13.242 km\n",
    "\n",
    "Mean raduis = 6.621 km\n",
    "\n",
    "Scaled to: $\\gamma$ = 7.9518021638388"
   ]
  },
  {
   "cell_type": "markdown",
   "metadata": {},
   "source": [
    "# (1793) Zoya\n",
    "\n",
    "From: https://3d-asteroids.space/asteroids/1793-Zoya \n",
    "\n",
    "Mean Diameter = 8.3480 km\n",
    "\n",
    "Mean raduis = 4.174 km\n",
    "\n",
    "Scaled to: $\\gamma$ = 5.321921105048268"
   ]
  }
 ],
 "metadata": {
  "kernelspec": {
   "display_name": "Python 3",
   "language": "python",
   "name": "python3"
  },
  "language_info": {
   "codemirror_mode": {
    "name": "ipython",
    "version": 3
   },
   "file_extension": ".py",
   "mimetype": "text/x-python",
   "name": "python",
   "nbconvert_exporter": "python",
   "pygments_lexer": "ipython3",
   "version": "3.10.10"
  }
 },
 "nbformat": 4,
 "nbformat_minor": 2
}
